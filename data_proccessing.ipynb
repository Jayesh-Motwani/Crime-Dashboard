{
 "cells": [
  {
   "cell_type": "code",
   "id": "initial_id",
   "metadata": {
    "collapsed": true,
    "ExecuteTime": {
     "end_time": "2025-06-27T13:40:01.888004Z",
     "start_time": "2025-06-27T13:40:01.878698Z"
    }
   },
   "source": [
    "import numpy as np\n",
    "import pandas as pd\n",
    "import io\n",
    "import re\n",
    "import os\n",
    "import streamlit as st"
   ],
   "outputs": [],
   "execution_count": 2
  },
  {
   "metadata": {
    "ExecuteTime": {
     "end_time": "2025-06-27T13:40:01.961727Z",
     "start_time": "2025-06-27T13:40:01.948731Z"
    }
   },
   "cell_type": "code",
   "source": [
    "file_list = [\n",
    "    \"January.csv\", \"February.csv\", \"March.csv\", \"April.csv\", \"May.csv\", \"June.csv\",\n",
    "    \"July.csv\", \"August.csv\", \"September.csv\", \"October.csv\", \"November.csv\", \"December.csv\"\n",
    "]\n",
    "\n",
    "input_dir = \"uncleaned_csvs\"\n",
    "\n",
    "standard_columns = [\n",
    "    \"sl_no\",\n",
    "    \"heads_of_crime\",\n",
    "    \"major_head\",\n",
    "    \"minor_head\",\n",
    "    \"current_year_upto\",\n",
    "    \"prev_year_same_month\",\n",
    "    \"prev_month\",\n",
    "    \"current_month\"\n",
    "]\n",
    "\n",
    "def clean_df(df):\n",
    "    df = df.loc[:, ~df.columns.str.contains(\"^Unnamed|^\\\\s*$\")]\n",
    "    col_map = {}\n",
    "    for col in df.columns:\n",
    "        c = col.strip().lower().replace('.', '').replace('  ', ' ').replace(' ', '_').replace('-', '_')\n",
    "        c = c.replace('heads_of_crime', 'heads_of_crime')\n",
    "        if 'sl' in c and 'no' in c:\n",
    "            c = 'sl_no'\n",
    "        elif 'heads' in c and 'crime' in c:\n",
    "            c = 'heads_of_crime'\n",
    "        elif 'major' in c and 'head' in c:\n",
    "            c = 'major_head'\n",
    "        elif 'minor' in c and 'head' in c:\n",
    "            c = 'minor_head'\n",
    "        elif 'current_year' in c or 'current_year_upto' in c or 'month_under_review' in c:\n",
    "            c = 'current_year_upto'\n",
    "        elif 'corresponding_month' in c:\n",
    "            c = 'prev_year_same_month'\n",
    "        elif 'previous_month' in c and 'corresponding' not in c:\n",
    "            c = 'prev_month'\n",
    "        elif 'current_month' in c:\n",
    "            c = 'current_month'\n",
    "        col_map[col] = c\n",
    "    df = df.rename(columns=col_map)\n",
    "    for col in standard_columns:\n",
    "        if col not in df.columns:\n",
    "            df[col] = pd.NA\n",
    "    df = df[standard_columns]\n",
    "    return df\n",
    "\n",
    "output_dir = \"cleaned_csvs\"\n",
    "os.makedirs(output_dir, exist_ok=True)"
   ],
   "id": "38958fdd4a059e4d",
   "outputs": [],
   "execution_count": 3
  },
  {
   "metadata": {
    "ExecuteTime": {
     "end_time": "2025-06-27T13:40:02.491682Z",
     "start_time": "2025-06-27T13:40:02.054654Z"
    }
   },
   "cell_type": "code",
   "source": [
    "dfs = []\n",
    "for fname in file_list:\n",
    "    file_path = os.path.join(input_dir, fname)\n",
    "    try:\n",
    "        try:\n",
    "            df = pd.read_csv(file_path, encoding=\"utf-8\")\n",
    "        except UnicodeDecodeError:\n",
    "            df = pd.read_csv(file_path, encoding=\"latin1\")\n",
    "        df_clean = clean_df(df)\n",
    "        month_name = os.path.splitext(os.path.basename(fname))[0]\n",
    "        df_clean['month'] = month_name\n",
    "        dfs.append(df_clean)\n",
    "        out_path = os.path.join(output_dir, fname)\n",
    "        df_clean.to_csv(out_path, index=False)\n",
    "    except Exception as e:\n",
    "        print(f\"Error processing {fname}: {e}\")\n",
    "\n",
    "final_df = pd.concat(dfs, ignore_index=True)\n",
    "final_df.to_csv(\"all_months_concatenated.csv\", index=False)\n",
    "\n",
    "print(f\"Cleaned individual files saved in '{output_dir}/'\")\n",
    "print(\"Concatenated file saved as 'all_months_concatenated.csv'\")"
   ],
   "id": "2aec7b8ee5d200eb",
   "outputs": [
    {
     "name": "stdout",
     "output_type": "stream",
     "text": [
      "Cleaned individual files saved in 'cleaned_csvs/'\n",
      "Concatenated file saved as 'all_months_concatenated.csv'\n"
     ]
    }
   ],
   "execution_count": 4
  },
  {
   "metadata": {
    "ExecuteTime": {
     "end_time": "2025-06-27T13:40:02.528207Z",
     "start_time": "2025-06-27T13:40:02.493206Z"
    }
   },
   "cell_type": "code",
   "source": "crime_df = pd.read_csv('all_months_concatenated.csv')",
   "id": "131066fe417fc245",
   "outputs": [],
   "execution_count": 5
  },
  {
   "metadata": {
    "ExecuteTime": {
     "end_time": "2025-06-27T13:40:02.540563Z",
     "start_time": "2025-06-27T13:40:02.528715Z"
    }
   },
   "cell_type": "code",
   "source": "crime_df.info()",
   "id": "5761ec679bdf091",
   "outputs": [
    {
     "name": "stdout",
     "output_type": "stream",
     "text": [
      "<class 'pandas.core.frame.DataFrame'>\n",
      "RangeIndex: 8467 entries, 0 to 8466\n",
      "Data columns (total 9 columns):\n",
      " #   Column                Non-Null Count  Dtype  \n",
      "---  ------                --------------  -----  \n",
      " 0   sl_no                 8466 non-null   float64\n",
      " 1   heads_of_crime        7731 non-null   object \n",
      " 2   major_head            8464 non-null   object \n",
      " 3   minor_head            7651 non-null   object \n",
      " 4   current_year_upto     8433 non-null   float64\n",
      " 5   prev_year_same_month  8433 non-null   float64\n",
      " 6   prev_month            8433 non-null   float64\n",
      " 7   current_month         8432 non-null   float64\n",
      " 8   month                 8467 non-null   object \n",
      "dtypes: float64(5), object(4)\n",
      "memory usage: 595.5+ KB\n"
     ]
    }
   ],
   "execution_count": 6
  },
  {
   "metadata": {
    "ExecuteTime": {
     "end_time": "2025-06-27T13:40:02.548498Z",
     "start_time": "2025-06-27T13:40:02.542575Z"
    }
   },
   "cell_type": "code",
   "source": "crime_df.drop('sl_no', axis=1, inplace=True)",
   "id": "4f41f96bffd445a4",
   "outputs": [],
   "execution_count": 7
  },
  {
   "metadata": {
    "ExecuteTime": {
     "end_time": "2025-06-27T13:40:02.562839Z",
     "start_time": "2025-06-27T13:40:02.549507Z"
    }
   },
   "cell_type": "code",
   "source": [
    "crime_df.drop_duplicates()\n",
    "crime_df.shape"
   ],
   "id": "630c67c76fdde82a",
   "outputs": [
    {
     "data": {
      "text/plain": [
       "(8467, 8)"
      ]
     },
     "execution_count": 8,
     "metadata": {},
     "output_type": "execute_result"
    }
   ],
   "execution_count": 8
  },
  {
   "metadata": {
    "ExecuteTime": {
     "end_time": "2025-06-27T13:40:02.571699Z",
     "start_time": "2025-06-27T13:40:02.563849Z"
    }
   },
   "cell_type": "code",
   "source": [
    "crime_df = crime_df[\n",
    "    ~(\n",
    "        (crime_df['current_month'] == 0) &\n",
    "        (crime_df['prev_month'] == 0) &\n",
    "        (crime_df['current_year_upto'] == 0) &\n",
    "        (crime_df['prev_year_same_month'] == 0)\n",
    "    )\n",
    "]"
   ],
   "id": "7f5a1c6780007a",
   "outputs": [],
   "execution_count": 9
  },
  {
   "metadata": {
    "ExecuteTime": {
     "end_time": "2025-06-27T13:40:02.579709Z",
     "start_time": "2025-06-27T13:40:02.573708Z"
    }
   },
   "cell_type": "code",
   "source": "crime_df.shape",
   "id": "56b2678491844898",
   "outputs": [
    {
     "data": {
      "text/plain": [
       "(5260, 8)"
      ]
     },
     "execution_count": 10,
     "metadata": {},
     "output_type": "execute_result"
    }
   ],
   "execution_count": 10
  },
  {
   "metadata": {
    "ExecuteTime": {
     "end_time": "2025-06-27T13:40:02.590105Z",
     "start_time": "2025-06-27T13:40:02.581224Z"
    }
   },
   "cell_type": "code",
   "source": [
    "cols = ['current_month', 'prev_month', 'current_year_upto','prev_year_same_month']\n",
    "crime_df[cols] = crime_df[cols].replace('', pd.NA)\n",
    "crime_df.dropna(subset=cols, inplace=True, how='all')"
   ],
   "id": "5f857d9378343d3e",
   "outputs": [],
   "execution_count": 11
  },
  {
   "metadata": {
    "ExecuteTime": {
     "end_time": "2025-06-27T13:40:02.598113Z",
     "start_time": "2025-06-27T13:40:02.592113Z"
    }
   },
   "cell_type": "code",
   "source": "crime_df.shape",
   "id": "60886d943a349ca2",
   "outputs": [
    {
     "data": {
      "text/plain": [
       "(5226, 8)"
      ]
     },
     "execution_count": 12,
     "metadata": {},
     "output_type": "execute_result"
    }
   ],
   "execution_count": 12
  },
  {
   "metadata": {
    "ExecuteTime": {
     "end_time": "2025-06-27T13:40:02.605193Z",
     "start_time": "2025-06-27T13:40:02.601227Z"
    }
   },
   "cell_type": "code",
   "source": "df_temp = crime_df",
   "id": "b819d788ff77db10",
   "outputs": [],
   "execution_count": 13
  },
  {
   "metadata": {
    "ExecuteTime": {
     "end_time": "2025-06-27T13:40:02.615549Z",
     "start_time": "2025-06-27T13:40:02.607203Z"
    }
   },
   "cell_type": "code",
   "source": [
    "def create_generalized_motive_mapping():\n",
    "    \"\"\"Create a hierarchical motive mapping with sexual crime patterns\"\"\"\n",
    "    return {\n",
    "        # Sexual motives (new additions)\n",
    "        r'rape|sexual assault|molestation|gang rape|incest|lewd|unnatural sex': 'sexual_violence',\n",
    "        r'sexual jealousy|libido|lust|perversion|pornography': 'sexual_deviance',\n",
    "        r'minor|child|pedophil|underage|teen|pocso': 'child_sexual_abuse',\n",
    "        r'voyeurism|stalking|eve-teasing|harassment|indecent|posh|modesty of women': 'sexual_harassment',\n",
    "        r'marital rape|spousal|husband|wife|partner.*sexual': 'intimate_partner_sexual',\n",
    "        r'stranger.*sexual|unknown.*sexual|public.*sexual': 'predatory_sexual',\n",
    "\n",
    "        # Financial motives\n",
    "        r'gain|profit|money|theft|robbery|extortion|blackmail|bribe|dacoity|burglary|counterfeiting|forgery|breach|post & telegraph': 'financial',\n",
    "        r'dowry|marriage|wedding|bride': 'dowry',\n",
    "        r'property|land|house|real estate|estate dispute': 'property_dispute',\n",
    "\n",
    "        # Relationship motives (enhanced)\n",
    "        r'adultery|affair|cheating|infidelity|swinging': 'relationship',  # New\n",
    "        r'personal vendetta|enem|grudge|rivalry|beef': 'personal_vendetta',\n",
    "        r'love|affection|marital|husband|wife|partner': 'relationship',\n",
    "\n",
    "        # Social/cultural motives\n",
    "        r'communal|religion|sectarian|blasphemy|riot|scheduled|sc & st': 'communal',\n",
    "        r'caste|tribe|ethnic|racial': 'caste_ethnic',\n",
    "        r'witch|sorcery|black magic|superstition|occult': 'superstition',\n",
    "        r'human sacrifice|ritual|offering': 'superstition',\n",
    "        r'bonded labour|slave|trafficking'\n",
    "\n",
    "        # Psychological motives (enhanced)\n",
    "        r'psychopath|serial killer|lunacy|mental|insanity|suicide': 'mental_illness',\n",
    "        r'anger|quarrel|argument|fight|road rage': 'impulsive',\n",
    "\n",
    "        # Political motives\n",
    "        r'political|election|electoral|party': 'political',\n",
    "        r'terrorism|naxal|extremism|insurgency|separatist|arms|national security|defence|false evidence|official secrets': 'national_safety',\n",
    "\n",
    "        # System-related (existing)\n",
    "        r'custodial|police|jail|prison|remand': 'custodial',\n",
    "        r'gang|mafia|organized crime|syndicate|narcotic': 'gang_related',\n",
    "        r'wrongful|defamation|copyright|consumer|animal|immoral|passport|railways|electricity|trespass|impersonation|copy right|forest|adulteration|cinematography|public justice':'civil_crimes',\n",
    "        r'civil|negligence|negligent|nuisance|mischief|public safety|explosive|affray|representative of people|cotpa|disobedience|failure to appear to court|escape|aadhaar|foreigner|public servant': 'civil_crimes',\n",
    "\n",
    "        # STATE LOCAL ACTS\n",
    "        r'karnataka':'karnataka_crimes',\n",
    "\n",
    "        # Default categories\n",
    "        r'revenge|vengeance|retaliation': 'revenge',\n",
    "        r'professional|contract killing|hitman': 'professional',\n",
    "        r'civil dispute|neighbor|village': 'community_dispute',\n",
    "        r'homicide|intimidation|arson|attempt to murder|kidnapping|trafficking|assault|acid|hurt|criminal|murder|infanticide|juvenile justice act|exposure & abandonment|attempting to commit offences|unlawful activities|abetment|guardianship|probation of offenders':'criminal_acts',\n",
    "        r'motor|road accident|highway':'vehicle_accidents',\n",
    "        r'miscellaneous|miscarriage|giving false information|ancient monument': 'misc',\n",
    "        r'cyber|malware|ransomware|online':'cyber_crime'\n",
    "    }"
   ],
   "id": "b37c3846621b8cc3",
   "outputs": [],
   "execution_count": 14
  },
  {
   "metadata": {
    "ExecuteTime": {
     "end_time": "2025-06-27T13:40:02.622559Z",
     "start_time": "2025-06-27T13:40:02.617560Z"
    }
   },
   "cell_type": "code",
   "source": [
    "def map_motive(text, motive_map):\n",
    "    \"\"\"Classify text using the motive mapping\"\"\"\n",
    "    text = str(text).lower()\n",
    "    for pattern, category in motive_map.items():\n",
    "        if re.search(pattern, text):\n",
    "            return category\n",
    "    return 'other'"
   ],
   "id": "a48418fe49b79666",
   "outputs": [],
   "execution_count": 15
  },
  {
   "metadata": {
    "ExecuteTime": {
     "end_time": "2025-06-27T13:40:02.630001Z",
     "start_time": "2025-06-27T13:40:02.624076Z"
    }
   },
   "cell_type": "code",
   "source": [
    "def generalize_motive_mapping(df):\n",
    "    \"\"\"Apply motive mapping to dataframe using BOTH major_head and minor_head\"\"\"\n",
    "    if df.empty:\n",
    "        return df\n",
    "\n",
    "    df = df.copy()\n",
    "    motive_map = create_generalized_motive_mapping()\n",
    "\n",
    "    # Combine classification from both columns\n",
    "    df['motive_category'] = (\n",
    "        df['major_head'].apply(lambda x: map_motive(x, motive_map)) + '|' +\n",
    "        df['minor_head'].apply(lambda x: map_motive(x, motive_map))\n",
    "    )\n",
    "\n",
    "    # Priority to minor_head classification when both exist\n",
    "    df['motive_category'] = df['motive_category'].apply(\n",
    "        lambda x: x.split('|')[1] if x.split('|')[1] != 'other' else x.split('|')[0]\n",
    "    )\n",
    " \n",
    "    return df"
   ],
   "id": "353ac1447e870aea",
   "outputs": [],
   "execution_count": 16
  },
  {
   "metadata": {
    "ExecuteTime": {
     "end_time": "2025-06-27T13:40:02.637960Z",
     "start_time": "2025-06-27T13:40:02.632016Z"
    }
   },
   "cell_type": "code",
   "source": "crime_df.shape",
   "id": "a004d49918cf1378",
   "outputs": [
    {
     "data": {
      "text/plain": [
       "(5226, 8)"
      ]
     },
     "execution_count": 17,
     "metadata": {},
     "output_type": "execute_result"
    }
   ],
   "execution_count": 17
  },
  {
   "metadata": {
    "ExecuteTime": {
     "end_time": "2025-06-27T13:40:02.945588Z",
     "start_time": "2025-06-27T13:40:02.638966Z"
    }
   },
   "cell_type": "code",
   "source": [
    "df_with_motives = generalize_motive_mapping(crime_df)\n",
    "df_with_motives.shape"
   ],
   "id": "a47854de9d4bcfd9",
   "outputs": [
    {
     "data": {
      "text/plain": [
       "(5226, 9)"
      ]
     },
     "execution_count": 18,
     "metadata": {},
     "output_type": "execute_result"
    }
   ],
   "execution_count": 18
  },
  {
   "metadata": {
    "ExecuteTime": {
     "end_time": "2025-06-27T13:40:02.992328Z",
     "start_time": "2025-06-27T13:40:02.946596Z"
    }
   },
   "cell_type": "code",
   "source": [
    "df_final = df_with_motives[df_with_motives['motive_category'] != 'other']\n",
    "df_final.to_csv('enhanced_crime_data.csv', index=False)"
   ],
   "id": "8009f7400776ee2",
   "outputs": [],
   "execution_count": 19
  },
  {
   "metadata": {
    "ExecuteTime": {
     "end_time": "2025-06-27T13:40:03.000229Z",
     "start_time": "2025-06-27T13:40:02.994336Z"
    }
   },
   "cell_type": "code",
   "source": "df_final.shape",
   "id": "904e152c8763709d",
   "outputs": [
    {
     "data": {
      "text/plain": [
       "(5213, 9)"
      ]
     },
     "execution_count": 20,
     "metadata": {},
     "output_type": "execute_result"
    }
   ],
   "execution_count": 20
  },
  {
   "metadata": {
    "ExecuteTime": {
     "end_time": "2025-06-27T13:40:03.025304Z",
     "start_time": "2025-06-27T13:40:03.001757Z"
    }
   },
   "cell_type": "code",
   "source": "df_final.head()",
   "id": "58054f2af871c35",
   "outputs": [
    {
     "data": {
      "text/plain": [
       "  heads_of_crime                major_head  \\\n",
       "0  A - IPC Crime  Murder (Sec.302/303 IPC)   \n",
       "1  A - IPC Crime  Murder (Sec.302/303 IPC)   \n",
       "2  A - IPC Crime  Murder (Sec.302/303 IPC)   \n",
       "3  A - IPC Crime  Murder (Sec.302/303 IPC)   \n",
       "5  A - IPC Crime  Murder (Sec.302/303 IPC)   \n",
       "\n",
       "                            minor_head  current_year_upto  \\\n",
       "0                             For gain                3.0   \n",
       "1                Over Property Dispute                2.0   \n",
       "2  Due to Personal Vendetta or enemity                1.0   \n",
       "3               Due to Sexual jealousy                0.0   \n",
       "5             For dowry by other means                1.0   \n",
       "\n",
       "   prev_year_same_month  prev_month  current_month    month    motive_category  \n",
       "0                   2.0         4.0            3.0  January          financial  \n",
       "1                   0.0         4.0            2.0  January   property_dispute  \n",
       "2                   1.0         2.0            1.0  January  personal_vendetta  \n",
       "3                   2.0         0.0            0.0  January    sexual_deviance  \n",
       "5                   0.0         3.0            1.0  January              dowry  "
      ],
      "text/html": [
       "<div>\n",
       "<style scoped>\n",
       "    .dataframe tbody tr th:only-of-type {\n",
       "        vertical-align: middle;\n",
       "    }\n",
       "\n",
       "    .dataframe tbody tr th {\n",
       "        vertical-align: top;\n",
       "    }\n",
       "\n",
       "    .dataframe thead th {\n",
       "        text-align: right;\n",
       "    }\n",
       "</style>\n",
       "<table border=\"1\" class=\"dataframe\">\n",
       "  <thead>\n",
       "    <tr style=\"text-align: right;\">\n",
       "      <th></th>\n",
       "      <th>heads_of_crime</th>\n",
       "      <th>major_head</th>\n",
       "      <th>minor_head</th>\n",
       "      <th>current_year_upto</th>\n",
       "      <th>prev_year_same_month</th>\n",
       "      <th>prev_month</th>\n",
       "      <th>current_month</th>\n",
       "      <th>month</th>\n",
       "      <th>motive_category</th>\n",
       "    </tr>\n",
       "  </thead>\n",
       "  <tbody>\n",
       "    <tr>\n",
       "      <th>0</th>\n",
       "      <td>A - IPC Crime</td>\n",
       "      <td>Murder (Sec.302/303 IPC)</td>\n",
       "      <td>For gain</td>\n",
       "      <td>3.0</td>\n",
       "      <td>2.0</td>\n",
       "      <td>4.0</td>\n",
       "      <td>3.0</td>\n",
       "      <td>January</td>\n",
       "      <td>financial</td>\n",
       "    </tr>\n",
       "    <tr>\n",
       "      <th>1</th>\n",
       "      <td>A - IPC Crime</td>\n",
       "      <td>Murder (Sec.302/303 IPC)</td>\n",
       "      <td>Over Property Dispute</td>\n",
       "      <td>2.0</td>\n",
       "      <td>0.0</td>\n",
       "      <td>4.0</td>\n",
       "      <td>2.0</td>\n",
       "      <td>January</td>\n",
       "      <td>property_dispute</td>\n",
       "    </tr>\n",
       "    <tr>\n",
       "      <th>2</th>\n",
       "      <td>A - IPC Crime</td>\n",
       "      <td>Murder (Sec.302/303 IPC)</td>\n",
       "      <td>Due to Personal Vendetta or enemity</td>\n",
       "      <td>1.0</td>\n",
       "      <td>1.0</td>\n",
       "      <td>2.0</td>\n",
       "      <td>1.0</td>\n",
       "      <td>January</td>\n",
       "      <td>personal_vendetta</td>\n",
       "    </tr>\n",
       "    <tr>\n",
       "      <th>3</th>\n",
       "      <td>A - IPC Crime</td>\n",
       "      <td>Murder (Sec.302/303 IPC)</td>\n",
       "      <td>Due to Sexual jealousy</td>\n",
       "      <td>0.0</td>\n",
       "      <td>2.0</td>\n",
       "      <td>0.0</td>\n",
       "      <td>0.0</td>\n",
       "      <td>January</td>\n",
       "      <td>sexual_deviance</td>\n",
       "    </tr>\n",
       "    <tr>\n",
       "      <th>5</th>\n",
       "      <td>A - IPC Crime</td>\n",
       "      <td>Murder (Sec.302/303 IPC)</td>\n",
       "      <td>For dowry by other means</td>\n",
       "      <td>1.0</td>\n",
       "      <td>0.0</td>\n",
       "      <td>3.0</td>\n",
       "      <td>1.0</td>\n",
       "      <td>January</td>\n",
       "      <td>dowry</td>\n",
       "    </tr>\n",
       "  </tbody>\n",
       "</table>\n",
       "</div>"
      ]
     },
     "execution_count": 21,
     "metadata": {},
     "output_type": "execute_result"
    }
   ],
   "execution_count": 21
  },
  {
   "metadata": {
    "ExecuteTime": {
     "end_time": "2025-06-27T13:40:03.029778Z",
     "start_time": "2025-06-27T13:40:03.026314Z"
    }
   },
   "cell_type": "code",
   "source": "",
   "id": "affc482d0047dc23",
   "outputs": [],
   "execution_count": 21
  }
 ],
 "metadata": {
  "kernelspec": {
   "display_name": "Python 3",
   "language": "python",
   "name": "python3"
  },
  "language_info": {
   "codemirror_mode": {
    "name": "ipython",
    "version": 2
   },
   "file_extension": ".py",
   "mimetype": "text/x-python",
   "name": "python",
   "nbconvert_exporter": "python",
   "pygments_lexer": "ipython2",
   "version": "2.7.6"
  }
 },
 "nbformat": 4,
 "nbformat_minor": 5
}
